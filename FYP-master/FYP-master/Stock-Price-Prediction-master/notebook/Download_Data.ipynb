{
 "cells": [
  {
   "cell_type": "code",
   "execution_count": 2,
   "metadata": {},
   "outputs": [],
   "source": [
    "import Exporter\n",
    "import tweepy\n",
    "import quandl\n",
    "import googletrans\n",
    "import os\n",
    "import pandas as pd\n",
    "import sys\n",
    "import numpy as np\n",
    "import math\n",
    "import langdetect"
   ]
  },
  {
   "cell_type": "code",
   "execution_count": 3,
   "metadata": {},
   "outputs": [],
   "source": [
    "data_path = os.path.join(os.path.dirname(os.getcwd()), 'data')\n",
    "if not os.path.exists(data_path):\n",
    "    os.mkdir(data_path)"
   ]
  },
  {
   "cell_type": "code",
   "execution_count": 4,
   "metadata": {},
   "outputs": [],
   "source": [
    "def get_stock_market_data(ticker: str, start_date: str, end_date: str) -> pd.DataFrame:\n",
    "    \"\"\"\n",
    "        @param: ticker: the ticker symbol\n",
    "        @param: start_date: format (yyyy-mm-dd) - the date from which the stock prices needs to be pulled\n",
    "        @param: end_date: format (yyyy-mm-dd) - the date uptil which the stock prices needs to be pulled\n",
    "        @return: dataframe which contains the stock prices of the given ticker.\n",
    "    \"\"\"\n",
    "\n",
    "    # get the Apple Stock Market data using quandle API\n",
    "    \n",
    "    # set quandl API key\n",
    "    quandl.ApiConfig.api_key = 'JvD7NPDHJRwBcWeZK6qr'\n",
    "\n",
    "    # get the End of Day data for Apple Stocks for one year\n",
    "    ticker_stock_data = quandl.get(\"EOD/{}\".format(ticker), start_date=start_date, end_date=end_date)\n",
    "\n",
    "    return ticker_stock_data"
   ]
  },
  {
   "cell_type": "code",
   "execution_count": 5,
   "metadata": {},
   "outputs": [],
   "source": [
    "def get_twitter_data(search_term: str, start_date: str, end_date: str) -> pd.DataFrame:\n",
    "    \"\"\"\n",
    "        @param: search_term: the term to search for top tweets on the twitter.\n",
    "        @param: start_date: the start date from which the top tweets are to be searched and fetched.\n",
    "        @param: end_date: the end date uptil which the top tweets are to be searched and fetched.\n",
    "        @return: dataframe which contains the top tweets\n",
    "    \"\"\"\n",
    "    os.system('python Exporter.py --querysearch \"#{}\" --since {} --until {} --toptweets --output \"output_got.csv\"'.format(search_term, start_date, end_date))\n",
    "    twitter_data = pd.read_csv('output_got.csv', sep=';', error_bad_lines=False)\n",
    "    os.remove(os.path.join(os.getcwd(), 'output_got.csv'))\n",
    "    return twitter_data"
   ]
  },
  {
   "cell_type": "code",
   "execution_count": 6,
   "metadata": {},
   "outputs": [],
   "source": [
    "def get_only_english_tweets(input_df: pd.DataFrame) -> pd.DataFrame:\n",
    "    \"\"\"\n",
    "        @param: input_df: input dataframe, which contains the top tweets downloaded in various languages.\n",
    "        @return: dataframe which contains only the english tweets.\n",
    "    \"\"\"\n",
    "    def get_language(value):\n",
    "        try:\n",
    "            language = langdetect.detect(value)\n",
    "            return language == 'en'\n",
    "        except Exception as e:\n",
    "            return False\n",
    "    new_df = input_df.apply(lambda x: get_language(x['text']), axis=1)\n",
    "    input_df_en = input_df.loc[new_df]\n",
    "    return input_df_en"
   ]
  },
  {
   "cell_type": "code",
   "execution_count": 7,
   "metadata": {},
   "outputs": [
    {
     "name": "stdout",
     "output_type": "stream",
     "text": [
      "Getting Stock Market Data for AAPL\n",
      "Received Stock Market data for AAPL\n",
      "Getting Twitter Data for search query Apple\n"
     ]
    },
    {
     "name": "stderr",
     "output_type": "stream",
     "text": [
      "b'Skipping line 2251: expected 10 fields, saw 11\\nSkipping line 5195: expected 10 fields, saw 11\\nSkipping line 16050: expected 10 fields, saw 11\\nSkipping line 17255: expected 10 fields, saw 11\\nSkipping line 25915: expected 10 fields, saw 11\\nSkipping line 26884: expected 10 fields, saw 11\\nSkipping line 30927: expected 10 fields, saw 11\\nSkipping line 36808: expected 10 fields, saw 11\\nSkipping line 41760: expected 10 fields, saw 11\\nSkipping line 46578: expected 10 fields, saw 12\\nSkipping line 52871: expected 10 fields, saw 12\\nSkipping line 54690: expected 10 fields, saw 11\\nSkipping line 54899: expected 10 fields, saw 12\\nSkipping line 58030: expected 10 fields, saw 11\\nSkipping line 62953: expected 10 fields, saw 12\\nSkipping line 64527: expected 10 fields, saw 11\\n'\n",
      "b'Skipping line 65609: expected 10 fields, saw 11\\nSkipping line 65620: expected 10 fields, saw 11\\nSkipping line 65640: expected 10 fields, saw 11\\nSkipping line 65655: expected 10 fields, saw 11\\nSkipping line 69057: expected 10 fields, saw 11\\nSkipping line 70920: expected 10 fields, saw 11\\nSkipping line 71393: expected 10 fields, saw 12\\nSkipping line 71819: expected 10 fields, saw 11\\nSkipping line 72676: expected 10 fields, saw 11\\nSkipping line 81424: expected 10 fields, saw 11\\nSkipping line 81987: expected 10 fields, saw 11\\nSkipping line 86376: expected 10 fields, saw 11\\nSkipping line 86918: expected 10 fields, saw 11\\nSkipping line 96190: expected 10 fields, saw 11\\nSkipping line 101055: expected 10 fields, saw 11\\nSkipping line 102775: expected 10 fields, saw 11\\nSkipping line 104073: expected 10 fields, saw 11\\nSkipping line 104683: expected 10 fields, saw 11\\nSkipping line 105640: expected 10 fields, saw 14\\nSkipping line 111801: expected 10 fields, saw 11\\nSkipping line 112459: expected 10 fields, saw 11\\n'\n"
     ]
    },
    {
     "name": "stdout",
     "output_type": "stream",
     "text": [
      "Received Twiiter Data for search query Apple\n",
      "Getting only english tweets\n",
      "Received only english tweets\n",
      "Stock market data saved to C:\\Users\\Shadow\\Desktop\\FYP-master\\FYP-master\\Stock-Price-Prediction-master\\data\\stock_data_AAPL_2019-03-15_2019-04-15.csv\n",
      "Twitter Data saved to C:\\Users\\Shadow\\Desktop\\FYP-master\\FYP-master\\Stock-Price-Prediction-master\\data\\twitter_data_english_Apple_2019-03-15_2019-04-15.csv\n"
     ]
    }
   ],
   "source": [
    "ticker_symbol = 'AAPL'\n",
    "\n",
    "twitter_search_query_term = 'Apple'\n",
    "\n",
    "start_date = '2019-03-15'\n",
    "end_date = '2019-04-15'\n",
    "\n",
    "print('Getting Stock Market Data for {}'.format(ticker_symbol))\n",
    "stock_data = get_stock_market_data(ticker_symbol, start_date, end_date)\n",
    "print('Received Stock Market data for {}'.format(ticker_symbol))\n",
    "\n",
    "print('Getting Twitter Data for search query {}'.format(twitter_search_query_term))\n",
    "twitter_data = get_twitter_data(twitter_search_query_term, start_date, end_date)\n",
    "print('Received Twiiter Data for search query {}'.format(twitter_search_query_term))\n",
    "\n",
    "print('Getting only english tweets')\n",
    "english_twitter_data = get_only_english_tweets(twitter_data)\n",
    "print('Received only english tweets')\n",
    "\n",
    "stock_data_file_path = os.path.join(data_path, 'stock_data_{}_{}_{}.csv'.format(ticker_symbol, start_date, end_date))\n",
    "twitter_data_file_path = os.path.join(data_path, 'twitter_data_english_{}_{}_{}.csv'.format(twitter_search_query_term, start_date, end_date))\n",
    "\n",
    "stock_data.to_csv(stock_data_file_path)\n",
    "print('Stock market data saved to {}'.format(stock_data_file_path))\n",
    "\n",
    "english_twitter_data.to_csv(twitter_data_file_path, index=False)\n",
    "print('Twitter Data saved to {}'.format(twitter_data_file_path))"
   ]
  },
  {
   "cell_type": "code",
   "execution_count": null,
   "metadata": {},
   "outputs": [],
   "source": []
  }
 ],
 "metadata": {
  "kernelspec": {
   "display_name": "Python 3",
   "language": "python",
   "name": "python3"
  },
  "language_info": {
   "codemirror_mode": {
    "name": "ipython",
    "version": 3
   },
   "file_extension": ".py",
   "mimetype": "text/x-python",
   "name": "python",
   "nbconvert_exporter": "python",
   "pygments_lexer": "ipython3",
   "version": "3.6.8"
  }
 },
 "nbformat": 4,
 "nbformat_minor": 2
}
